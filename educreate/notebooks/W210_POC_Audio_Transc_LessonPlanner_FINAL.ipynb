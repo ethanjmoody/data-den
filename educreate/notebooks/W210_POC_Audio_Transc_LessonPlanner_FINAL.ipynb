{
  "cells": [
    {
      "cell_type": "markdown",
      "metadata": {
        "id": "czxW4C_gf5Eo"
      },
      "source": [
        "<font color='#00AED3'>\n",
        "\n",
        "# EduCreate | Minimum Viable Product - Extension Audio</font>\n",
        "\n"
      ]
    },
    {
      "cell_type": "markdown",
      "metadata": {
        "id": "vexqkXi9uaHY"
      },
      "source": [
        "# Setup and Import Modules"
      ]
    },
    {
      "cell_type": "code",
      "execution_count": null,
      "metadata": {
        "id": "WIlhfQj-KUlZ"
      },
      "outputs": [],
      "source": [
        "%%capture\n",
        "# Install required modules and packages\n",
        "%pip install --upgrade --quiet openai yt_dlp tiktoken pydub"
      ]
    },
    {
      "cell_type": "code",
      "execution_count": null,
      "metadata": {
        "colab": {
          "base_uri": "https://localhost:8080/"
        },
        "id": "3NjcvYABKieZ",
        "outputId": "5c103c56-776a-4895-ba19-29af6959f932"
      },
      "outputs": [
        {
          "output_type": "stream",
          "name": "stdout",
          "text": [
            "Mounted at /content/drive\n"
          ]
        }
      ],
      "source": [
        "# Import modules and packages\n",
        "import locale\n",
        "from pprint import pprint\n",
        "import os\n",
        "\n",
        "from google.colab import userdata\n",
        "from openai import OpenAI\n",
        "\n",
        "import yt_dlp\n",
        "import tiktoken\n",
        "from pydub import AudioSegment\n",
        "\n",
        "locale.getpreferredencoding = lambda: \"UTF-8\"\n",
        "\n",
        "client = OpenAI(api_key = userdata.get(\"OPENAI_API_KEY_W210\"))\n",
        "openai_model = \"gpt-4o-mini\"\n",
        "openai_audio_model = \"whisper-1\"\n",
        "\n",
        "from google.colab import drive\n",
        "drive.mount('/content/drive')"
      ]
    },
    {
      "cell_type": "markdown",
      "metadata": {
        "id": "WdCiL5ZpiVjg"
      },
      "source": [
        "<font color='#00AED3'>\n",
        "\n",
        "# INPUT: User Requirements </font>"
      ]
    },
    {
      "cell_type": "code",
      "source": [
        "## REFERENCE TO YOUTUBE URL\n",
        "# 1. Enter YouTube url\n",
        "load_youtube_path = 'https://youtu.be/Q-mkVSasZIM?si=Qe5LI1aJKRfvPlTP'\n",
        "\n",
        "## OR\n",
        "\n",
        "## REFERENCE TO TEACHER'S RECORDED LESSON\n",
        "# 1. Enter path to saved file of recorded lesson\n",
        "load_video_path = '/content/drive/My Drive/Colab Notebooks/W210_Capstone/W205_Presentation_EO.mp4'\n",
        "\n",
        "\n",
        "# 2. Enter Instructions\n",
        "user_prompt = \"\"\"\n",
        "Please summarise the key points from the lesson and in a useful order for students who missed this live lesson.\n",
        "Please also suggest some questions (and answers) for follow up work by the students.\n",
        "\"\"\"\n",
        "\n",
        "\n",
        "# Set choice for using YouTube or Recorded Lesson\n",
        "is_load_youtube = True\n",
        "\n",
        "if is_load_youtube:\n",
        "  load_path = load_youtube_path\n",
        "else:\n",
        "  load_path = load_video_path"
      ],
      "metadata": {
        "id": "y8hqJkoROJeb"
      },
      "execution_count": null,
      "outputs": []
    },
    {
      "cell_type": "markdown",
      "source": [
        "# Functions to Extract Audio from Video"
      ],
      "metadata": {
        "id": "JbjmI7P0x9jM"
      }
    },
    {
      "cell_type": "code",
      "source": [
        "# Function to extract audio from any YouTube video\n",
        "def extract_audio_from_yt(youtube_path, output_path):\n",
        "  ydl_opts = {\n",
        "      'format': 'bestaudio/best',\n",
        "      'postprocessors': [{\n",
        "          'key': 'FFmpegExtractAudio',\n",
        "          'preferredcodec': 'mp3',\n",
        "          'preferredquality': '192',}],\n",
        "      'outtmpl': output_path\n",
        "      }\n",
        "\n",
        "  with yt_dlp.YoutubeDL(ydl_opts) as ydl:\n",
        "        ydl.download([youtube_path])\n",
        "\n",
        "# Function to extract audio from any video\n",
        "def extract_audio_from_video(video_path, audio_output_path):\n",
        "  video = AudioSegment.from_file(video_path, format=\"mp4\")\n",
        "  video.export(audio_output_path, format=\"mp3\")\n",
        "\n",
        "\n",
        "# Function to split audio into defined chunks with defined overlap\n",
        "def split_audio(audio_path, chunk_length_minutes=5, overlap_seconds=5):\n",
        "  audio = AudioSegment.from_file(audio_path, format=\"mp3\")\n",
        "  # Convert minutes to milliseconds\n",
        "  chunk_length_ms = chunk_length_minutes * 60 * 1000\n",
        "  # Convert seconds to milliseconds\n",
        "  overlap_ms = overlap_seconds * 1000\n",
        "\n",
        "  chunks = []\n",
        "  start = 0\n",
        "  chunk_num = 0\n",
        "\n",
        "  while start < len(audio):\n",
        "    end = start + chunk_length_ms\n",
        "    chunk = audio[start:end]\n",
        "    chunk_name = f\"{os.path.splitext(audio_path)[0]}_chunk{chunk_num}.mp3\"\n",
        "    chunk.export(chunk_name, format=\"mp3\")\n",
        "    chunks.append(chunk_name)\n",
        "    chunk_num += 1\n",
        "    start = end - overlap_ms\n",
        "\n",
        "  return chunks"
      ],
      "metadata": {
        "id": "0KBHOFMBYKdQ"
      },
      "execution_count": null,
      "outputs": []
    },
    {
      "cell_type": "code",
      "source": [
        "if is_load_youtube:\n",
        "  audio_output_path = 'yt_audio'\n",
        "  extract_audio_from_yt(load_path, audio_output_path)\n",
        "  load_audio_path = '/content/' + audio_output_path + '.mp3'\n",
        "else:\n",
        "  audio_output_path = 'vid_audio.mp3'\n",
        "  extract_audio_from_video(load_path, audio_output_path)\n",
        "  load_audio_path = '/content/' + audio_output_path"
      ],
      "metadata": {
        "colab": {
          "base_uri": "https://localhost:8080/"
        },
        "id": "5pil3sk7tgg4",
        "outputId": "2990a21f-928e-41e2-fc03-54a5cc7ebc0e"
      },
      "execution_count": null,
      "outputs": [
        {
          "output_type": "stream",
          "name": "stdout",
          "text": [
            "[youtube] Extracting URL: https://youtu.be/Q-mkVSasZIM?si=Qe5LI1aJKRfvPlTP\n",
            "[youtube] Q-mkVSasZIM: Downloading webpage\n",
            "[youtube] Q-mkVSasZIM: Downloading ios player API JSON\n",
            "[youtube] Q-mkVSasZIM: Downloading player 1f8742dc\n",
            "[youtube] Q-mkVSasZIM: Downloading m3u8 information\n",
            "[info] Q-mkVSasZIM: Downloading 1 format(s): 251\n",
            "[download] Destination: yt_audio\n",
            "[download] 100% of   10.27MiB in 00:00:00 at 26.33MiB/s  \n",
            "[ExtractAudio] Destination: yt_audio.mp3\n",
            "Deleting original file yt_audio (pass -k to keep)\n"
          ]
        }
      ]
    },
    {
      "cell_type": "markdown",
      "source": [
        "# Transcription of Audio"
      ],
      "metadata": {
        "id": "1lLfNw0Y4BsM"
      }
    },
    {
      "cell_type": "code",
      "execution_count": null,
      "metadata": {
        "id": "jpA2HC-YiijQ"
      },
      "outputs": [],
      "source": [
        "# Transcribe the audio\n",
        "audio_chunks = split_audio(load_audio_path)\n",
        "\n",
        "full_transcription = \"\"\n",
        "\n",
        "for chunk in audio_chunks:\n",
        "  with open(chunk, \"rb\") as audio_file:\n",
        "    transcription = client.audio.transcriptions.create(\n",
        "        model=openai_audio_model,\n",
        "        file=audio_file)\n",
        "    full_transcription += transcription.text + \"\\n\""
      ]
    },
    {
      "cell_type": "code",
      "source": [
        "# Inspect transcription\n",
        "pprint(full_transcription)"
      ],
      "metadata": {
        "colab": {
          "base_uri": "https://localhost:8080/"
        },
        "id": "rZh7xiSjjUai",
        "outputId": "c54b7ed7-f57c-4358-9f5d-f9f7e3079213"
      },
      "execution_count": null,
      "outputs": [
        {
          "output_type": "stream",
          "name": "stdout",
          "text": [
            "(\"Hi, I'm John Green. This is Crash Course World History, and today we're \"\n",
            " 'going to do some legitimate comp-civ, for those of you into that kind of '\n",
            " \"thing. Stan, I can't help but feel that we have perhaps too many globes. \"\n",
            " \"That's better. Today we're going to learn about the horrible totalitarian \"\n",
            " 'Persians and the saintly, democracy-loving Greeks. But of course, we already '\n",
            " 'know this story. There were some wars in which no one wore any shirts and '\n",
            " 'everyone was reasonably fit. The Persians were bad, the Greeks were good, '\n",
            " \"Socrates and Plato are awesome, the Persians didn't even philosophize, the \"\n",
            " \"West is the best. Go team! Yeah, well, no. Let's start with the Persian \"\n",
            " 'Empire, which became the model for pretty much all land-based empires '\n",
            " 'throughout the world, except for, wait for it, the Mongols. Much of what we '\n",
            " 'know about the Persians and their empire comes from an outsider writing '\n",
            " 'about them, which is something we now call history. And one of the first '\n",
            " 'true historians was Herodotus, whose famous book, The Persian Wars, talks '\n",
            " 'about the Persians quite a bit. Now, the fact that Herodotus was Greek is '\n",
            " 'important because it introduces us to the idea of historical bias, but more '\n",
            " 'on that in a second. So the Persian Achaemenid dynasty, Achaemenid? Hold on. '\n",
            " \"Achaemenid or Achaemenid. They're both right? I was right twice? Right, so \"\n",
            " 'the Persian Achaemenid or Achaemenid dynasty was founded in 539 BCE by King '\n",
            " 'Cyrus the Great. Cyrus took his nomadic warriors and conquered most of '\n",
            " 'Mesopotamia, including the Babylonians, which ended a sad period in Jewish '\n",
            " 'history called the Babylonian Exile, thus ensuring that Cyrus got great '\n",
            " 'press in the Bible. But his son Darius I was even greater. He extended '\n",
            " 'Persian control east to our old friend the Indus Valley, west to our new '\n",
            " 'friend Egypt, and north to crash-course newcomer Anatolia. By the way, there '\n",
            " 'were Greeks in Anatolia called Ionian Greeks who will become relevant '\n",
            " \"shortly. So even if you weren't Persian, the Persian Empire was pretty \"\n",
            " 'dreamy. For one thing, the Persians ruled with a light touch, like conquered '\n",
            " 'kingdoms were allowed to keep their kings and their elites as long as they '\n",
            " 'pledged allegiance to the Persian king and paid taxes, which is why the '\n",
            " \"Persian king was known as the King of Kings. Plus taxes weren't too high and \"\n",
            " 'the Persians improved infrastructure with better roads and they had this '\n",
            " 'pony express-like mail service of which Herodotus said, They are stayed '\n",
            " 'neither by snow nor rain nor heat nor darkness from accomplishing their '\n",
            " 'appointed course with all speed. And the Persians embraced freedom of '\n",
            " \"religion, like they were Zoroastrian, which has a claim to be the world's \"\n",
            " 'first monotheistic religion. It was really Zoroastrianism that introduced us '\n",
            " 'to the good-evil dualism we all know so well, you know, God and Satan or '\n",
            " \"Perry and Voldemort. But the Persians weren't very concerned about \"\n",
            " 'converting people of the empire to their faith. Plus, Zoroastrianism forbids '\n",
            " 'slavery, and so slavery was almost unheard of in the Persian Empire. All in '\n",
            " 'all, if you had to live in the 5th century BCE, the Persian Empire was '\n",
            " 'probably the best place to do it. Unless, that is, you believe Herodotus and '\n",
            " 'the Greeks. We all know about the Greeks. Architecture, philosophy, '\n",
            " 'literature, the very word music comes from Greek, as does so much else in '\n",
            " 'contemporary culture. Greek poets and mathematicians and architects and '\n",
            " 'philosophers founded a culture that we still identify with, and they '\n",
            " 'introduced us to many ideas, from democracy to fart jokes. And the Greeks '\n",
            " 'gave the West our first dedicated history, they gave us our vocabulary for '\n",
            " 'talking about politics, plus they gifted us our idealization of democracy, '\n",
            " 'which comes from the government they had in Athens. Mr. Green! Mr. Green! '\n",
            " \"Mr. Green! Mr. Green! Did you say fart jokes? Oh, you don't ask about Doric, \"\n",
            " \"Ionian, or Corinthian columns, you don't ask about Plato's Allegory of the \"\n",
            " \"Cave, it's all scatological humor with you! It's time for the open letter? \"\n",
            " 'Really? Already? Alright. An open letter! Stan! To Aristophanes. Dear '\n",
            " 'Aristophanes. Oh, right, I have to check the secret compartment. Stan, what? '\n",
            " \"Oh. Thank you, Stan. It's fake dog poo. How thoughtful. So good news and bad \"\n",
            " 'news, Aristophanes. 2,300 years after your death, this is the good news. '\n",
            " \"You're still reasonably famous, only 11 of your 40 plays survived, but even \"\n",
            " \"so you're called the father of comedy, there are scholars devoted to your \"\n",
            " 'work. Now the bad news. Even though your plays are exceptionally well '\n",
            " \"translated and absolutely hilarious, students don't like to read them in \"\n",
            " \"schools. They're always like, why do we gotta read this boring crap? And \"\n",
            " 'this must be particularly galling to you because so much of what you did in '\n",
            " 'your career was make fun of boring crap, specifically in the form of '\n",
            " 'theatrical tragedies. Plus, you frequently used actual crap to make jokes. '\n",
            " 'Such as when you had the chorus in the Icarnians imagining a character in '\n",
            " \"your play throwing crap at a real poet you didn't like. You, Aristophanes, \"\n",
            " 'who wrote that under every stone works a politician who called wealth the '\n",
            " 'most excellent of all the gods. You, who are responsible for the following '\n",
            " 'conversation. I want all to have a share of everything and everything to be '\n",
            " 'in common. There will no longer be rich or poor. I shall begin by making '\n",
            " 'land, money, everything that is private property common to all. But who will '\n",
            " \"till the soil? The slaves. And yet you're seen as homework, drudgery. That, \"\n",
            " 'my friend, is a true tragedy.\\n'\n",
            " 'homework, drudgery. That, my friend, is a true tragedy. On the upside, we '\n",
            " 'did take care of slavery. It only took us 2,000 years. Best wishes, John '\n",
            " 'Green. When we think about the high point of Greek culture, exemplified by '\n",
            " \"the Parthenon and the plays of Aeschylus, what we're really thinking about \"\n",
            " 'is Athens in the 4th century BCE, right after the Persian Wars. But Greece '\n",
            " 'was way more than Athens. Greeks lived in city-states, which consisted of a '\n",
            " 'city and its surrounding area. Most of these city-states featured at least '\n",
            " 'some form of slavery, and in all of them, citizenship was limited to males. '\n",
            " 'Sorry, ladies. Also, each of these city-states had its own form of '\n",
            " 'government, ranging from very democratic – unless you were a woman or a '\n",
            " 'slave – to completely dictatorial. And the people who lived in these cities '\n",
            " 'considered themselves citizens of that city, not of anything that would ever '\n",
            " 'be called Greece. At least until the Persian Wars. So between 490 and 480 '\n",
            " 'BCE, the Persians made war on the Greek city-states. This was the war that '\n",
            " 'featured the Battle of Thermopylae, where 300 brave Spartans battled, if you '\n",
            " 'believe Herodotus, 5 million Persians. And also the Battle of Marathon, '\n",
            " 'which is a plain about 26.2 miles away from Athens. The whole war started '\n",
            " 'because Athens supported those aforementioned Ionian Greeks when they were '\n",
            " 'rebelling in Anatolia against the Persians. That made the Persian king '\n",
            " 'Xerxes mad, so he led two major campaigns against the Athenians, and the '\n",
            " 'Athenians enlisted the help of all the other Greek city-states. In the wake '\n",
            " 'of that shared Greek victory, the Greeks began to see themselves as Greeks '\n",
            " 'rather than as Spartans or Athenians or whatever. And then Athens emerged as '\n",
            " 'the de facto capital of Greece and then got to experience a Golden Age, '\n",
            " 'which is something that historians make up. But a lot of things did happen '\n",
            " 'during the Golden Age, including the Parthenon, a temple that became a '\n",
            " 'church and then a mosque and then an armory until finally settling into its '\n",
            " 'current gig as a ruin. You also had statesmen like Pericles, whose famous '\n",
            " 'funeral oration brags about the golden democracy of Athens with rhetoric '\n",
            " \"that wouldn't sound out of place today. If we look to the laws, they afford \"\n",
            " 'equal justice to all in their private differences. If a man is able to serve '\n",
            " 'the state, he is not hindered by the obscurity of his condition. And when '\n",
            " 'you combine that high-minded rhetoric with the undeniable power and beauty '\n",
            " \"of the art and philosophy that was created in ancient Athens, it's not hard \"\n",
            " 'to see it as the foundation of Western civilization. And if you buy into '\n",
            " 'this, you have to be glad that the Greeks won the Persian Wars. But even if '\n",
            " \"you put aside the slavery and other injustices in Greek society, there's \"\n",
            " 'still trouble. Do I have to say it? Seriously? Fine. Trouble. P and that '\n",
            " \"rhymes with P and that stands for Peloponnese. Pericles' funeral oration \"\n",
            " 'comes from a later war, the Peloponnesian War, which was a 30-year conflict '\n",
            " 'between the Athenians and the Spartans. The Spartans did not embrace '\n",
            " 'democracy, but instead embraced a kingship that functioned only because of a '\n",
            " 'huge class of brutally mistreated slaves. But to be clear, the war was not '\n",
            " 'about Athens trying to get Sparta to embrace democratic reform. Wars rarely '\n",
            " 'are. It was about resources and power. And the Athenians were hardly saintly '\n",
            " \"in all of this, as evidenced by the famous Melian Dialogue. Let's go to the \"\n",
            " \"Thought Bubble. So in one of the most famous passages of Thucydides' History \"\n",
            " 'of the Peloponnesian War, the Athenians sailed to the island of Melos, a '\n",
            " 'Spartan colony, and demanded that the Melians submit to Athenian rule. The '\n",
            " \"Melians pointed out that they'd never actually fought with the Spartans, and \"\n",
            " \"were like, listen, if it's all the same to you, we'd like to go Switzerland \"\n",
            " \"on this one. Except, of course, they didn't say that because there was no \"\n",
            " 'Switzerland, to which The Athenians responded, and here I am quoting '\n",
            " 'directly, \"...the strong do what they can, and the weak suffer what they '\n",
            " 'must.\" Needless to say, this is not a terribly democratic or enlightened '\n",
            " 'position to take. This statement, in fact, is sometimes seen as the first '\n",
            " 'explicit endorsement of the so-called theory of realism in international '\n",
            " 'relations. For realists, interaction between nations or peoples or cultures '\n",
            " \"is all about who has the power. Whoever has it can compel whoever doesn't \"\n",
            " 'have it to do pretty much anything. So what did the meritocratic and '\n",
            " 'democratic Athenians do when the Melians politely asked not to participate '\n",
            " 'in the fight? They killed all the Melian men and enslaved all the women and '\n",
            " 'children. So yes, Socrates gave us his interrogative method, Sophocles gave '\n",
            " 'us Oedipus, but the legacy of ancient Greece is profoundly ambiguous. All '\n",
            " 'the more so because the final winner of the Peloponnesian War were the '\n",
            " \"dictatorial Spartans. That's an incredible bummer, Thought Bubble, so here's \"\n",
            " 'a non-rhetorical question. Did the right side win the Persian Wars? Most '\n",
            " 'classicists and defenders of the Western tradition will tell you that, of '\n",
            " 'course, we should be glad the Greeks won. After all, winning the Persian '\n",
            " 'Wars set off the cultural flourishing that gave us the Classical Age, and '\n",
            " 'plus, if the Persians had won with their monarchy, they might have strangled '\n",
            " \"democracy in its crib and gave us more one-man rule. And that's possible, \"\n",
            " \"but as a counter to that argument, let's consider three things. First, it's \"\n",
            " 'worth remembering that life under the Persians was pretty good, and if you '\n",
            " \"look at the last 5,000 years of human history, you'll find a lot more \"\n",
            " 'successful and stable empires than, you will, democracies. Second, life '\n",
            " \"under the Athenians wasn't so awesome, particularly if you were a woman or a \"\n",
            " 'slave, and their government was notoriously corrupt. And ultimately, the '\n",
            " 'Athenian government derived its power not from its citizens, but from \\n'\n",
            " 'notoriously corrupt. And ultimately, the Athenian government derived its '\n",
            " 'power not from its citizens but from the imperialist belief that might makes '\n",
            " \"right. It's true that Athens gave us Socrates, but let me remind you, they \"\n",
            " 'also killed him. Well, I mean, they forced him to commit suicide. Whatever, '\n",
            " \"Herodotus, you're not the only one here who can engage in historical bias. \"\n",
            " 'And lastly, under Persian rule, the Greeks might have avoided the '\n",
            " 'Peloponnesian War, which ended up weakening the Greek city-states so much '\n",
            " \"that Alexander, coming soon, the great's father, was able to conquer all of \"\n",
            " 'them, and then there were a bunch of bloody wars with the Persians, and all '\n",
            " \"kinds of horrible things, and Greece wouldn't glimpse democracy again for \"\n",
            " 'two millennia, all of which might have been avoided if they had just let '\n",
            " 'themselves get beaten by the Persians. All of which forces us to return to '\n",
            " \"the core question of human history. What's the point of being alive? I've \"\n",
            " \"got good news for you, guy. You're only going to have to worry about it for \"\n",
            " 'about eight more seconds. Should we try to ensure the longest, healthiest, '\n",
            " \"and most productive lives for humans? If so, it's easy to argue that Greece \"\n",
            " 'should have lost the Persian Wars. But perhaps lives are supposed to be '\n",
            " 'lived in pursuit of some great ideal worth sacrificing endlessly for. And if '\n",
            " 'so, maybe the glory of Athens still shines, however dimly. Those are the '\n",
            " \"real questions of history. What's the point of being alive? How should we \"\n",
            " \"organize ourselves? What should we seek from this life? Those aren't easy \"\n",
            " \"questions, but we'll take another crack at them next week when we talk about \"\n",
            " \"the Buddha. I'll see you then. Crash Course is produced and directed by Stan \"\n",
            " 'Muller. Our script supervisor is Danica Johnson. The graphics team is '\n",
            " 'Thought Bubble, and the show is written by my high school history teacher '\n",
            " 'Raoul Meyer and me. Our Phrase of the Week last week was Un mot de Francais. '\n",
            " \"If you'd like to guess this week's Phrase of the Week, you can do so in \"\n",
            " \"comments. You can also ask questions about today's video in comments, where \"\n",
            " 'our team of historians will attempt to answer them. Thanks for watching, and '\n",
            " \"don't forget to be awesome.\\n\")\n"
          ]
        }
      ]
    },
    {
      "cell_type": "code",
      "source": [
        "# Function to count tokens in a text\n",
        "def count_tokens(text, model=openai_model):\n",
        "  # Load the appropriate tokenizer for the model\n",
        "  encoding = tiktoken.encoding_for_model(model)\n",
        "  # Encode the text to get the tokens\n",
        "  tokens = encoding.encode(text)\n",
        "  # Return the number of tokens\n",
        "  return len(tokens)\n",
        "\n",
        "# Check if we can pass entire transcription to model or summarization required first\n",
        "num_tokens = count_tokens(transcription.text)\n",
        "print(f\"Number of tokens: {num_tokens}\")\n",
        "\n",
        "if num_tokens < 128000:\n",
        "  print(\"Passing entire transcription to model.\")\n",
        "else:\n",
        "  print(\"Summarized transcription will be passed to the model. This may take a while.\")\n",
        "  summ_transcription = client.chat.completions.create(\n",
        "      model=openai_model,\n",
        "      messages=[\n",
        "          {\"role\": \"system\", \"content\": \"\"\"Summarize the text to be LESS THAN 25000 words.\"\"\"},\n",
        "          {\"role\": \"user\", \"content\": [{\"type\": \"text\", \"text\": f\"Here is the text: {transcription.text}\"}]}\n",
        "          ],\n",
        "      temperature=0)\n",
        "  print(f\"Summarization done. Number of tokens: {count_tokens(summ_transcription.choices[0].message.content)}\")"
      ],
      "metadata": {
        "colab": {
          "base_uri": "https://localhost:8080/"
        },
        "id": "yjcDi2LGlWbq",
        "outputId": "90825539-ab28-4fd5-cd65-9d8c7ee749de"
      },
      "execution_count": null,
      "outputs": [
        {
          "output_type": "stream",
          "name": "stdout",
          "text": [
            "Number of tokens: 460\n",
            "Passing entire transcription to model.\n"
          ]
        }
      ]
    },
    {
      "cell_type": "markdown",
      "source": [
        "# OUTPUT: Generation of Teacher Response"
      ],
      "metadata": {
        "id": "AIKl2fen6FCD"
      }
    },
    {
      "cell_type": "code",
      "execution_count": null,
      "metadata": {
        "id": "Z4wZyH83ppjE"
      },
      "outputs": [],
      "source": [
        "system_context = \"\"\"\n",
        "You are a high school History teacher and an expert in a broad range of History topics.\n",
        "You will be provided with an audio transcription of the lesson taught by your fellow teaching colleague.\n",
        "You will also be given some instructions by your teaching colleague on the help required.\n",
        "Please ONLY provide your responses to the questions or instructions. DO NOT add responses such as 'Of Course, Certainly etc.'\n",
        "Here are the instructions from your teaching colleague:\"\"\" + user_prompt\n",
        "\n",
        "response = client.chat.completions.create(\n",
        "    model=openai_model,\n",
        "    messages=[\n",
        "    {\"role\": \"system\", \"content\": system_context},\n",
        "    {\"role\": \"user\", \"content\": [{\"type\": \"text\", \"text\": f\"Here is the audio transcription of the lesson: {transcription.text}\"}]}\n",
        "    ],\n",
        "    temperature=0)"
      ]
    },
    {
      "cell_type": "code",
      "source": [
        "print(response.choices[0].message.content)"
      ],
      "metadata": {
        "colab": {
          "base_uri": "https://localhost:8080/"
        },
        "id": "rDoQLcGsqWM4",
        "outputId": "cf72bff7-ddc1-4cda-8a1e-bc9b165b6b46"
      },
      "execution_count": null,
      "outputs": [
        {
          "output_type": "stream",
          "name": "stdout",
          "text": [
            "**Key Points from the Lesson:**\n",
            "\n",
            "1. **Corruption in Athenian Government**: The Athenian government was described as notoriously corrupt, deriving its power from imperialist beliefs rather than the will of its citizens.\n",
            "\n",
            "2. **Socrates' Death**: Athens is credited with giving us Socrates, but it is important to note that they ultimately forced him to commit suicide, highlighting the contradictions in Athenian democracy.\n",
            "\n",
            "3. **Persian Rule and the Peloponnesian War**: The lesson suggests that under Persian rule, the Greeks might have avoided the Peloponnesian War, which significantly weakened the Greek city-states and made them vulnerable to conquest by Alexander the Great.\n",
            "\n",
            "4. **Consequences of War**: The aftermath of the Peloponnesian War led to bloody conflicts with the Persians and a long absence of democracy in Greece, lasting nearly two millennia.\n",
            "\n",
            "5. **Philosophical Questions**: The lesson raises fundamental questions about the purpose of life, the organization of society, and the ideals worth sacrificing for, suggesting that these are central themes in human history.\n",
            "\n",
            "6. **Next Lesson Preview**: The next lesson will focus on the teachings of the Buddha, continuing the exploration of these philosophical questions.\n",
            "\n",
            "**Suggested Questions for Follow-Up Work:**\n",
            "\n",
            "1. **Question**: What were the main reasons for the corruption in the Athenian government?\n",
            "   - **Answer**: The Athenian government was corrupt due to its reliance on imperialist beliefs and the concentration of power that did not reflect the will of its citizens.\n",
            "\n",
            "2. **Question**: How did the death of Socrates reflect the contradictions of Athenian democracy?\n",
            "   - **Answer**: Socrates' death illustrates the flaws in Athenian democracy, as a society that valued philosophical inquiry ultimately silenced one of its greatest thinkers.\n",
            "\n",
            "3. **Question**: What impact did the Peloponnesian War have on the Greek city-states?\n",
            "   - **Answer**: The Peloponnesian War weakened the Greek city-states, making them vulnerable to external threats, such as the conquests by Alexander the Great.\n",
            "\n",
            "4. **Question**: What philosophical questions does the lesson suggest are central to human history?\n",
            "   - **Answer**: The lesson suggests that central philosophical questions include the purpose of life, how society should be organized, and what ideals are worth sacrificing for.\n",
            "\n",
            "5. **Question**: What might have been the consequences if the Greeks had accepted Persian rule?\n",
            "   - **Answer**: If the Greeks had accepted Persian rule, they might have avoided the Peloponnesian War and its devastating consequences, potentially preserving their democratic ideals for a longer period.\n"
          ]
        }
      ]
    }
  ],
  "metadata": {
    "colab": {
      "provenance": []
    },
    "kernelspec": {
      "display_name": "Python 3",
      "name": "python3"
    },
    "language_info": {
      "codemirror_mode": {
        "name": "ipython",
        "version": 3
      },
      "file_extension": ".py",
      "mimetype": "text/x-python",
      "name": "python",
      "nbconvert_exporter": "python",
      "pygments_lexer": "ipython3",
      "version": "3.8.5"
    }
  },
  "nbformat": 4,
  "nbformat_minor": 0
}