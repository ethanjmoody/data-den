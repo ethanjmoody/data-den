{
 "cells": [
  {
   "cell_type": "markdown",
   "id": "3f465500",
   "metadata": {},
   "source": [
    "# Gourmet Meals Business -- SQL Project (Part 2.7 - Analysis on Continuing to Withhold Customer Data from 3rd Parties)\n",
    "\n",
    "Author: **Ethan Moody**\n",
    "\n",
    "Date: **October 2022**"
   ]
  },
  {
   "cell_type": "markdown",
   "id": "e81f4fad",
   "metadata": {},
   "source": [
    "### Business Case\n",
    "\n",
    "Assume you are a data engineer working closely with the data science team at Agile Gourmet Meals (AGM).\n",
    "\n",
    "AGM executives are considering adding a delivery option, with the hopes of increasing sales, growing the customer base, and increasing profitability.   \n",
    "\n",
    "Management decided to do a proof of concept (POC) in the form of a three month trial run using one delivery service at the Berkeley store. They have called upon the data science team to help with this effort. In turn, the data science team has asked for your help in the data engineering aspects of the POC.\n",
    "\n",
    "Management chose Peak Deliveries primarily because it's a newer operation with a model that takes a percentage cut of the product pricing instead of charging customers a delivery fee. Peak's cut is 18%. So, for each $12 meal, that equates to approximately $2.16. Customers may tip the delivery driver if they wish. AGM is not given any visibility into customer tips. (Peak is protecting its data on good tippers.) Peak has an outstanding reputation for great, fast, and efficient deliveries, with excellent customer service. Peak will only deliver to zip codes within a 5 mile radius of the store.\n",
    "\n",
    "Integration with any third party sales channel always comes with its challenges. For large companies, like McDonalds, the delivery companies are willing to integrate and modify their computer systems as needed to get the contract. For small companies, like AGM, one of your only options is to use Peak's API to send and receive data. However, that would require you to write a lot of code, which management does not want to spend money on until the POC has proven successful. As an alternative, Peak can provide you with a JSON file at the end of each day with detailed sales information for that day. Management has decided to go with the daily JSON option for now for the POC. \n",
    "\n",
    "For products, AGM will enter products into Peak's system. Peak will assign an ID in their system to the product. You will need to create a mapping table to map Peak's IDs to AGM's IDs. In AGM's case, all products cost $12 and are tax exempt. AGM will mark them as exempt from sales tax.\n",
    "\n",
    "Regarding the customer list, AGM does not want to give out their full customer list to third parties.  Customers will have to sign up with Peak, either using the website, the app, or by telephone.  AGM executives anticipate and understand that the trade off to not giving them the customer list is that you will probably have to validate and/or cleanse the customer data. Peak will assign their customer ID to each customer.\n",
    "\n",
    "In this POC, you will focus on only 1 store: the Berkeley store. Peak will create a pickup location for the store and assign their own location ID to it. Even though all data will have the same store for now, you still want to receive it and process it so you can help leadership plan for possible future expansion to other stores and/or pickup locations.\n",
    "\n",
    "Assume today is October 4, 2020. The first day of sales was October 3, 2020. The JSON file came in very early this morning. As a data engineer, you need to get started with parsing, staging, validating, etc. the file as soon as possible.  \n",
    "\n",
    "The executives are anxious to understand how good the data is, if you will be able to continue withholding the customer data from Peak, and to get some preliminary analytics. Even though it's just one day's worth of data, the executives want as much information as soon as they can get it (which is very typical).\n",
    "\n",
    "The data science team has met with you, and together you came up with a plan to get the data loaded and validated, explore the customer data, and perform some preliminary analytics. The data science team has been requested to give the executives an assessment of the customer data and whether or not they should continue to withhold customer data from Peak. Since you are going to be the first one to have an extensive look at the data, the data science team wants and values your opinion on the customer data."
   ]
  },
  {
   "cell_type": "markdown",
   "id": "1cf92eab",
   "metadata": {},
   "source": [
    "# 2.7 Analysis on continuing to withhold customer data from 3rd parties\n",
    "\n",
    "Like most companies, AGM does not want to give out its customer list to 3rd party sales channels. The downside is that customer first names, last names, and street addresses will have some variations and not be exact matches.\n",
    "\n",
    "The data science team would like your analysis of both options:\n",
    "\n",
    "1)  Continue to withhold the customer data from 3rd party sales channels\n",
    "\n",
    "2)  Give customer data to 3rd party sales channels\n",
    "\n",
    "The data science team would also like your recommendation on which option you think is best, using the following format:\n",
    "* A paragraph outlining supporting points for option 1.\n",
    "* A paragraph outlining supporting points for option 2.\n",
    "* A paragraph outlining your final recommendation."
   ]
  },
  {
   "cell_type": "markdown",
   "id": "c8086a63",
   "metadata": {},
   "source": [
    "# Our customers mean the world to us –– we can't let them down\n",
    "### *(Executive Summary –– Peak Deliveries POC: Day 1 Assessment, 10/4/2020)*\n",
    "\n",
    "#### Option 1: Continue to withhold customer data from 3rd party sales channels\n",
    "\n",
    "There are several compelling reasons to continue to withhold customer data from Peak. First, this is the option that senior leadership prefers, which is a significant reason on its own. Second, withholding this data helps mitigate a serious consumer privacy risk – namely, the risk that NPPI data could be exposed through a data breach and exploited by bad actors (\"hackers\") for financial gain, blackmailing, or a host of additional nefarious purposes. Ethically and legally, AGM is responsible for the protection of all data it collects (especially customer data), so it is imperative that the company safeguard this data and keep it out of the hands of unintended third parties. Third, withholding this data prevents Peak and any of its affiliates, partners, or clients from having access to information that could be used to draw market share away from AGM. Peak may have contracts with other companies in the food service industry – including some of AGM's key competitors – and if they treat data from their contractual business partners too carelessly, AGM's customer data could end up in the hands of some of their competitors and drain away sales. Fourth, all the queries and processes that are necessary to operationalize the 3-month POC with Peak (including product ID mapping, JSON file parsing, data loading, and data transformation/validation steps) have already been built without the need for a customer data transfer between AGM and Peak. Provided no structural changes occur within the daily JSON files from Peak throughout the remainder of the POC, these queries and processes could remain as-is (without needing to be rebuilt), and AGM could continue to run the POC successfully (which would be a big efficiency win). Additionally, assuming that the quality of the data file for October 3 is typical for Peak, there would arguably be minimal operational benefit from sharing the customer data – i.e., we could expect to see only ~13.4% of Peak's customer records not match AGM's internal data within any given file. This small percentage of mismatched records could be corrected each day – or even at the end of each month – using a very do-able process involving fuzzy matching logic: a process which could compare Peak's \"dirty\" data to AGM's internal customer data on first names, last names, and/or addresses and draw on a combination of phonetic and alphabetical considerations to identify the best match in AGM's data for reconciliation.\n",
    "\n",
    "#### Option 2: Give customer data to 3rd party sales channels\n",
    "\n",
    "Conversely, there are also a few compelling reasons to consider providing customer data to Peak. Perhaps the most significant of these reasons relates to the scalability of the POC. If the POC is determined successful and senior leadership decides to expand the contract with Peak to include additional stores/locations (outside of Berkeley), the amount of effort required to clean and reconcile the \"dirty\" (mismatched) customer data from Peak's daily JSON file could substantially increase under the condition that AGM continues to withhold customer data from Peak. Supposing that the percentage of mismatched customer records (~13.4%) remained about the same as what was observed within the October 3 file, the volume of records requiring correction could increase by more than a few hundredfold if Peak ended up providing service to all – or nearly all – of AGM's customer base and had to operate without AGM's customer data in hand. Reconciling this \"dirty\" data would be possible using fuzzy matching logic and other data cleansing techniques, but because these techniques are imperfect and arguably best supplemented by a manual inspection or QC process, AGM could save time and resources by providing their customer data to Peak and rendering this extra work unnecessary. In short, a customer data transfer would make the data cleansing steps in this process much easier. Viewed another way, sharing the customer data could serve as a key enabler for a more rapid expansion of the POC, and this rapid expansion could, in turn, accelerate top-line revenue growth and market penetration for AGM. Aside from efficiency gains, senior leadership might also unlock unique business intelligence or marketing benefits from sharing customer data with Peak. Some third party vendors employ analytics teams to mine data received by their partners/clients for new opportunities and insights that can ultimately be used for better marketing, product development, and strategic innovation (though most often it's used to entice these partners/clients to purchase more of the vendors' services!). Senior leadership could use these insights to strengthen AGM's competitive advantage in the industry and better serve its customers, which would be a win for all parties.\n",
    "\n",
    "#### Recommendation\n",
    "\n",
    "Despite the benefits of providing customer data to Peak, **my recommendation would be to continue withholding this data for the remainder of the POC (_Option 1_).** This decision would arguably provide the best protection to sensitive NPPI data while AGM is still a relatively new company and at a point in its development where a costly data breach or consumer privacy blunder could completely destroy the business. It also aligns with leadership's preferences, places a high degree of importance and value on customers' rights to privacy (acknowledging the reality that some or all of them could still choose to opt-out of having their information shared with Peak, even if AGM decided to transmit this data anyway), and has the greatest potential to reinforce trust between AGM and its customers by acknowledging their role and responsibilty as an ethical player in the food service industry. We know little about Peak and how they handle data from partner businesses at this time. Entrusting them with more data than is necessary to run a successful POC seems needlessly risky, especially given the work that has been done to build a functioning data pipeline to handle daily file ingestions from Peak and transform data from these files into insights that can be shared with senior leadership. Although extra effort is needed to cleanse dirty data from Peak, this extra effort would be less costly in the long-run than losing sensitive customer data to bad actors or competitors. *One important qualification: this recommendation is for the remainder of the POC.* If, at the end of the 3-month period, leadership wants to expand the contract with Peak to service additional locations, it may make sense to reassess this recommendation in light of learnings from the POC (specifically around the daily volume and volatility in the percentage of mismatched customer records). If the volume of mismatched customer records grows to such a degree that one additional FTE (full-time employee) is needed to reconcile these records each day, it may be prudent to reconsider sharing the customer data or at least run a CBA for this option incorporating the cost of a new hire into this equation. In the event that leadership became more comfortable with the net economic- or personnel-related benefits of sharing the data, my recommendation would be to share this data only after 1) legal-approved verbiage is included in the contract with Peak detailing the specific employees who can/cannot access the data and 2) Peak provides AGM leadership with clear details on its data protection and data sharing practices, since these considerations could help continue to mitigate the risk of this data getting into the wrong hands.\n"
   ]
  },
  {
   "cell_type": "code",
   "execution_count": null,
   "id": "2e470ebc",
   "metadata": {},
   "outputs": [],
   "source": []
  }
 ],
 "metadata": {
  "kernelspec": {
   "display_name": "Python 3 (ipykernel)",
   "language": "python",
   "name": "python3"
  },
  "language_info": {
   "codemirror_mode": {
    "name": "ipython",
    "version": 3
   },
   "file_extension": ".py",
   "mimetype": "text/x-python",
   "name": "python",
   "nbconvert_exporter": "python",
   "pygments_lexer": "ipython3",
   "version": "3.9.13"
  }
 },
 "nbformat": 4,
 "nbformat_minor": 5
}
